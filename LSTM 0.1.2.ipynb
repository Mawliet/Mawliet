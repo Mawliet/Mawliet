{
 "cells": [
  {
   "cell_type": "code",
   "execution_count": 1,
   "metadata": {},
   "outputs": [],
   "source": [
    "import numpy as np\n",
    "import matplotlib.pyplot as plt\n",
    "import pandas as pd\n",
    "from pandas import read_csv\n",
    "import math\n",
    "from sklearn.preprocessing import MinMaxScaler\n",
    "from sklearn.metrics import mean_squared_error\n",
    "import time #helper libraries\n",
    "\n",
    "import tensorflow as tf\n",
    "from tensorflow import keras\n",
    "from tensorflow.keras.models import Sequential\n",
    "from tensorflow.keras.layers import Dense\n",
    "from tensorflow.keras.layers import LSTM\n",
    "from tensorflow.keras.layers import Dense, Activation, Dropout\n",
    "\n",
    "from sklearn.metrics import mean_squared_error\n",
    "from math import sqrt\n",
    "\n",
    "from tensorflow.keras.models import model_from_json"
   ]
  },
  {
   "cell_type": "code",
   "execution_count": 2,
   "metadata": {},
   "outputs": [],
   "source": [
    "# file is downloaded from finance.yahoo.com, 1.1.1997-1.1.2017\n",
    "# training data = 1.1.1997 - 1.1.2007\n",
    "# test data = 1.1.2007 - 1.1.2017\n",
    "input_file=\"DAT_MT_EURUSD_M1_2005-2019.csv\""
   ]
  },
  {
   "cell_type": "code",
   "execution_count": 3,
   "metadata": {},
   "outputs": [],
   "source": [
    "# convert an array of values into a dataset matrix\n",
    "def create_dataset(dataset, look_back=1):\n",
    "\tdataX, dataY = [], []\n",
    "\tfor i in range(len(dataset)-look_back-1):\n",
    "\t\ta = dataset[i:(i+look_back), 0]\n",
    "\t\tdataX.append(a)\n",
    "\t\tdataY.append(dataset[i + look_back, 0])\n",
    "\treturn np.array(dataX), np.array(dataY)"
   ]
  },
  {
   "cell_type": "code",
   "execution_count": null,
   "metadata": {},
   "outputs": [],
   "source": [
    "# fix random seed for reproducibility\n",
    "np.random.seed(5)"
   ]
  },
  {
   "cell_type": "code",
   "execution_count": 4,
   "metadata": {},
   "outputs": [],
   "source": [
    "# load the dataset\n",
    "df = read_csv(input_file, header=None, index_col=None, delimiter=',')"
   ]
  },
  {
   "cell_type": "code",
   "execution_count": 5,
   "metadata": {},
   "outputs": [
    {
     "data": {
      "text/plain": [
       "array([[1.3555 ],\n",
       "       [1.3466 ],\n",
       "       [1.3468 ],\n",
       "       ...,\n",
       "       [1.12105],\n",
       "       [1.12099],\n",
       "       [1.12076]])"
      ]
     },
     "execution_count": 5,
     "metadata": {},
     "output_type": "execute_result"
    }
   ],
   "source": [
    "# take close price column[5]\n",
    "all_y = df[5].values\n",
    "dataset=all_y.reshape(-1, 1)\n",
    "dataset"
   ]
  },
  {
   "cell_type": "code",
   "execution_count": 6,
   "metadata": {},
   "outputs": [
    {
     "data": {
      "text/plain": [
       "array([[0.56396523],\n",
       "       [0.54833611],\n",
       "       [0.54868733],\n",
       "       ...,\n",
       "       [0.15225217],\n",
       "       [0.15214681],\n",
       "       [0.15174291]])"
      ]
     },
     "execution_count": 6,
     "metadata": {},
     "output_type": "execute_result"
    }
   ],
   "source": [
    "# normalize the dataset\n",
    "scaler = MinMaxScaler(feature_range=(0, 1))\n",
    "dataset = scaler.fit_transform(dataset)\n",
    "dataset"
   ]
  },
  {
   "cell_type": "code",
   "execution_count": 7,
   "metadata": {},
   "outputs": [],
   "source": [
    "# split into train and test sets, 50% test data, 50% training data\n",
    "train_size = int(len(dataset) * 0.8)\n",
    "test_size = len(dataset) - train_size\n",
    "train, test = dataset[0:train_size,:], dataset[train_size:len(dataset),:]"
   ]
  },
  {
   "cell_type": "code",
   "execution_count": null,
   "metadata": {},
   "outputs": [],
   "source": [
    "train"
   ]
  },
  {
   "cell_type": "code",
   "execution_count": null,
   "metadata": {},
   "outputs": [],
   "source": [
    "test"
   ]
  },
  {
   "cell_type": "code",
   "execution_count": 8,
   "metadata": {},
   "outputs": [],
   "source": [
    "# reshape into X=t and Y=t+1, timestep 240\n",
    "look_back = 110\n",
    "trainX, trainY = create_dataset(train, look_back)\n",
    "testX, testY = create_dataset(test, look_back)"
   ]
  },
  {
   "cell_type": "code",
   "execution_count": null,
   "metadata": {},
   "outputs": [],
   "source": [
    "trainX"
   ]
  },
  {
   "cell_type": "code",
   "execution_count": null,
   "metadata": {},
   "outputs": [],
   "source": [
    "trainY"
   ]
  },
  {
   "cell_type": "code",
   "execution_count": 9,
   "metadata": {},
   "outputs": [],
   "source": [
    "# reshape input to be [samples, time steps, features]\n",
    "trainX = np.reshape(trainX, (trainX.shape[0], 1, trainX.shape[1]))\n",
    "testX = np.reshape(testX, (testX.shape[0], 1, testX.shape[1]))"
   ]
  },
  {
   "cell_type": "code",
   "execution_count": null,
   "metadata": {},
   "outputs": [],
   "source": [
    "trainX"
   ]
  },
  {
   "cell_type": "code",
   "execution_count": 12,
   "metadata": {},
   "outputs": [],
   "source": [
    "# create and fit the LSTM network, optimizer=adam, 25 neurons, dropout 0.1\n",
    "model = Sequential()\n",
    "model.add(LSTM(400, input_shape=(1, look_back)))\n",
    "model.add(Dropout(0.025))\n",
    "model.add(Dense(1))\n",
    "\n",
    "model.compile(loss='mse', optimizer='adam')\n",
    "#"
   ]
  },
  {
   "cell_type": "code",
   "execution_count": null,
   "metadata": {},
   "outputs": [],
   "source": []
  },
  {
   "cell_type": "code",
   "execution_count": null,
   "metadata": {},
   "outputs": [],
   "source": []
  },
  {
   "cell_type": "code",
   "execution_count": 10,
   "metadata": {},
   "outputs": [],
   "source": [
    "# load json and create model\n",
    "json_file = open('model.json', 'r')\n",
    "loaded_model_json = json_file.read()\n",
    "json_file.close()\n",
    "loaded_model = model_from_json(loaded_model_json)"
   ]
  },
  {
   "cell_type": "code",
   "execution_count": 11,
   "metadata": {},
   "outputs": [
    {
     "name": "stdout",
     "output_type": "stream",
     "text": [
      "Loaded model from disk\n"
     ]
    }
   ],
   "source": [
    "# load weights into new model\n",
    "loaded_model.load_weights(\"model.h5\")\n",
    "print(\"Loaded model from disk\")"
   ]
  },
  {
   "cell_type": "code",
   "execution_count": 12,
   "metadata": {},
   "outputs": [],
   "source": [
    "loaded_model.compile(loss='mse', optimizer='adam')"
   ]
  },
  {
   "cell_type": "code",
   "execution_count": 13,
   "metadata": {
    "scrolled": true
   },
   "outputs": [
    {
     "name": "stdout",
     "output_type": "stream",
     "text": [
      "Train on 4245830 samples\n",
      "Epoch 1/36\n",
      "4245830/4245830 [==============================] - 372s 88us/sample - loss: 6.3686e-06\n",
      "Epoch 2/36\n",
      "4245830/4245830 [==============================] - 369s 87us/sample - loss: 6.3780e-06\n",
      "Epoch 3/36\n",
      "4245830/4245830 [==============================] - 368s 87us/sample - loss: 6.3456e-06\n",
      "Epoch 4/36\n",
      "4245830/4245830 [==============================] - 370s 87us/sample - loss: 6.3488e-06\n",
      "Epoch 5/36\n",
      "4245830/4245830 [==============================] - 370s 87us/sample - loss: 6.3822e-06\n",
      "Epoch 6/36\n",
      "4245830/4245830 [==============================] - 369s 87us/sample - loss: 6.2774e-06\n",
      "Epoch 7/36\n",
      "4245830/4245830 [==============================] - 370s 87us/sample - loss: 6.3139e-06\n",
      "Epoch 8/36\n",
      "4245830/4245830 [==============================] - 373s 88us/sample - loss: 6.2368e-06\n",
      "Epoch 9/36\n",
      "4245830/4245830 [==============================] - 373s 88us/sample - loss: 6.2230e-06\n",
      "Epoch 10/36\n",
      "4245830/4245830 [==============================] - 376s 89us/sample - loss: 6.2786e-06\n",
      "Epoch 11/36\n",
      "4245830/4245830 [==============================] - 379s 89us/sample - loss: 6.2830e-06\n",
      "Epoch 12/36\n",
      "4245830/4245830 [==============================] - 376s 89us/sample - loss: 6.3517e-06 - loss:\n",
      "Epoch 13/36\n",
      "4245830/4245830 [==============================] - 375s 88us/sample - loss: 6.1759e-06\n",
      "Epoch 14/36\n",
      "4245830/4245830 [==============================] - 375s 88us/sample - loss: 6.2303e-06\n",
      "Epoch 15/36\n",
      "4245830/4245830 [==============================] - 376s 88us/sample - loss: 6.1978e-06\n",
      "Epoch 16/36\n",
      "4245830/4245830 [==============================] - 376s 89us/sample - loss: 6.2200e-06\n",
      "Epoch 17/36\n",
      "4245830/4245830 [==============================] - 378s 89us/sample - loss: 6.2075e-06\n",
      "Epoch 18/36\n",
      "4245830/4245830 [==============================] - 377s 89us/sample - loss: 6.1732e-06\n",
      "Epoch 19/36\n",
      "4245830/4245830 [==============================] - 377s 89us/sample - loss: 6.2152e-06\n",
      "Epoch 20/36\n",
      "4245830/4245830 [==============================] - 377s 89us/sample - loss: 6.1686e-06\n",
      "Epoch 21/36\n",
      "4245830/4245830 [==============================] - 378s 89us/sample - loss: 6.1548e-06\n",
      "Epoch 22/36\n",
      "4245830/4245830 [==============================] - 377s 89us/sample - loss: 6.1999e-06\n",
      "Epoch 23/36\n",
      "4245830/4245830 [==============================] - 377s 89us/sample - loss: 6.0745e-06\n",
      "Epoch 24/36\n",
      "4245830/4245830 [==============================] - 376s 89us/sample - loss: 6.1684e-06\n",
      "Epoch 25/36\n",
      "4245830/4245830 [==============================] - 378s 89us/sample - loss: 6.2239e-06\n",
      "Epoch 26/36\n",
      "4245830/4245830 [==============================] - 378s 89us/sample - loss: 6.1102e-06\n",
      "Epoch 27/36\n",
      "4245830/4245830 [==============================] - 377s 89us/sample - loss: 6.0711e-06\n",
      "Epoch 28/36\n",
      "4245830/4245830 [==============================] - 379s 89us/sample - loss: 6.1057e-06\n",
      "Epoch 29/36\n",
      "4245830/4245830 [==============================] - 377s 89us/sample - loss: 6.0907e-06\n",
      "Epoch 30/36\n",
      "4245830/4245830 [==============================] - 376s 89us/sample - loss: 6.0688e-06\n",
      "Epoch 31/36\n",
      "4245830/4245830 [==============================] - 376s 89us/sample - loss: 6.0702e-06\n",
      "Epoch 32/36\n",
      "4245830/4245830 [==============================] - 378s 89us/sample - loss: 6.0760e-06\n",
      "Epoch 33/36\n",
      "4245830/4245830 [==============================] - 376s 89us/sample - loss: 6.0519e-06\n",
      "Epoch 34/36\n",
      "4245830/4245830 [==============================] - 375s 88us/sample - loss: 6.0702e-06\n",
      "Epoch 35/36\n",
      "4245830/4245830 [==============================] - 377s 89us/sample - loss: 6.0935e-06\n",
      "Epoch 36/36\n",
      "4245830/4245830 [==============================] - 376s 89us/sample - loss: 5.9874e-06\n"
     ]
    },
    {
     "data": {
      "text/plain": [
       "<tensorflow.python.keras.callbacks.History at 0x11f37488>"
      ]
     },
     "execution_count": 13,
     "metadata": {},
     "output_type": "execute_result"
    }
   ],
   "source": [
    "loaded_model.fit(trainX, trainY, epochs=36, batch_size=500, verbose=1)"
   ]
  },
  {
   "cell_type": "code",
   "execution_count": 15,
   "metadata": {},
   "outputs": [],
   "source": [
    "# make predictions\n",
    "trainPredict = loaded_model.predict(trainX)\n",
    "testPredict = loaded_model.predict(testX)"
   ]
  },
  {
   "cell_type": "code",
   "execution_count": null,
   "metadata": {},
   "outputs": [],
   "source": [
    "trainPredict"
   ]
  },
  {
   "cell_type": "code",
   "execution_count": null,
   "metadata": {},
   "outputs": [],
   "source": [
    "testPredict"
   ]
  },
  {
   "cell_type": "code",
   "execution_count": 16,
   "metadata": {},
   "outputs": [],
   "source": [
    "# invert predictions\n",
    "trainPredict = scaler.inverse_transform(trainPredict)\n",
    "trainY = scaler.inverse_transform([trainY])\n",
    "testPredict = scaler.inverse_transform(testPredict)\n",
    "testY = scaler.inverse_transform([testY])"
   ]
  },
  {
   "cell_type": "code",
   "execution_count": null,
   "metadata": {},
   "outputs": [],
   "source": [
    "trainY"
   ]
  },
  {
   "cell_type": "code",
   "execution_count": null,
   "metadata": {},
   "outputs": [],
   "source": [
    "testY"
   ]
  },
  {
   "cell_type": "code",
   "execution_count": 17,
   "metadata": {},
   "outputs": [
    {
     "name": "stdout",
     "output_type": "stream",
     "text": [
      "Train Score: 0.43 RMSE\n",
      "Test Score: 0.42 RMSE\n"
     ]
    }
   ],
   "source": [
    "# calculate root mean squared error\n",
    "trainScore = sqrt(mean_squared_error(trainY[0], trainPredict[:,0]))*1000\n",
    "print('Train Score: %.2f RMSE' % (trainScore))\n",
    "testScore = sqrt(mean_squared_error(testY[0], testPredict[:,0]))*1000\n",
    "print('Test Score: %.2f RMSE' % (testScore))"
   ]
  },
  {
   "cell_type": "code",
   "execution_count": 18,
   "metadata": {},
   "outputs": [],
   "source": [
    "# shift train predictions for plotting\n",
    "trainPredictPlot = np.empty_like(dataset)\n",
    "trainPredictPlot[:, :] = np.nan\n",
    "trainPredictPlot = trainPredict"
   ]
  },
  {
   "cell_type": "code",
   "execution_count": null,
   "metadata": {},
   "outputs": [],
   "source": [
    "trainPredict"
   ]
  },
  {
   "cell_type": "code",
   "execution_count": null,
   "metadata": {},
   "outputs": [],
   "source": [
    "trainPredictPlot"
   ]
  },
  {
   "cell_type": "code",
   "execution_count": 19,
   "metadata": {},
   "outputs": [
    {
     "name": "stdout",
     "output_type": "stream",
     "text": [
      "testPrices:\n",
      "testPredictions:\n",
      "[[1.0568467]\n",
      " [1.0568464]\n",
      " [1.0568745]\n",
      " ...\n",
      " [1.1207987]\n",
      " [1.1207728]\n",
      " [1.1207248]]\n"
     ]
    },
    {
     "data": {
      "image/png": "[encoded data removed]",
      "text/plain": [
       "<Figure size 432x288 with 1 Axes>"
      ]
     },
     "metadata": {
      "needs_background": "light"
     },
     "output_type": "display_data"
    }
   ],
   "source": [
    "# plot baseline and predictions\n",
    "plt.plot(scaler.inverse_transform(dataset))\n",
    "plt.plot(trainPredictPlot)\n",
    "print('testPrices:')\n",
    "testPrices=scaler.inverse_transform(dataset[test_size+look_back:])\n",
    "\n",
    "print('testPredictions:')\n",
    "print(testPredict)"
   ]
  },
  {
   "cell_type": "code",
   "execution_count": 20,
   "metadata": {},
   "outputs": [],
   "source": [
    "# shift train predictions for plotting\n",
    "testPredictPlot = np.empty_like(dataset)\n",
    "testPredictPlot[:, :] = np.nan\n",
    "testPredictPlot = testPredict"
   ]
  },
  {
   "cell_type": "code",
   "execution_count": 21,
   "metadata": {},
   "outputs": [
    {
     "name": "stdout",
     "output_type": "stream",
     "text": [
      "testPrices:\n",
      "testPredictions:\n",
      "[[1.0568467]\n",
      " [1.0568464]\n",
      " [1.0568745]\n",
      " ...\n",
      " [1.1207987]\n",
      " [1.1207728]\n",
      " [1.1207248]]\n"
     ]
    },
    {
     "data": {
      "image/png": "[encoded data removed]",
      "text/plain": [
       "<Figure size 432x288 with 1 Axes>"
      ]
     },
     "metadata": {
      "needs_background": "light"
     },
     "output_type": "display_data"
    }
   ],
   "source": [
    "# plot baseline and predictions\n",
    "plt.plot(scaler.inverse_transform(dataset))\n",
    "plt.plot(testPredictPlot)\n",
    "print('testPrices:')\n",
    "testPrices=scaler.inverse_transform(dataset[test_size+look_back:])\n",
    "\n",
    "print('testPredictions:')\n",
    "print(testPredict)"
   ]
  },
  {
   "cell_type": "code",
   "execution_count": 22,
   "metadata": {},
   "outputs": [],
   "source": [
    "np.savetxt(\"predict.csv\", testPredict, delimiter=\",\") "
   ]
  },
  {
   "cell_type": "code",
   "execution_count": 23,
   "metadata": {},
   "outputs": [],
   "source": [
    "# serialize model to JSON\n",
    "model_json = loaded_model.to_json()\n",
    "with open(\"model.json\", \"w\") as json_file:\n",
    "    json_file.write(model_json)"
   ]
  },
  {
   "cell_type": "code",
   "execution_count": 24,
   "metadata": {},
   "outputs": [
    {
     "name": "stdout",
     "output_type": "stream",
     "text": [
      "Saved model to disk\n"
     ]
    }
   ],
   "source": [
    "# serialize weights to HDF5\n",
    "loaded_model.save_weights(\"model.h5\")\n",
    "print(\"Saved model to disk\")"
   ]
  },
  {
   "cell_type": "code",
   "execution_count": null,
   "metadata": {},
   "outputs": [],
   "source": []
  }
 ],
 "metadata": {
  "kernelspec": {
   "display_name": "Python 3.7 (tf)",
   "language": "python",
   "name": "tf"
  },
  "language_info": {
   "codemirror_mode": {
    "name": "ipython",
    "version": 3
   },
   "file_extension": ".py",
   "mimetype": "text/x-python",
   "name": "python",
   "nbconvert_exporter": "python",
   "pygments_lexer": "ipython3",
   "version": "3.7.9"
  }
 },
 "nbformat": 4,
 "nbformat_minor": 4
}
